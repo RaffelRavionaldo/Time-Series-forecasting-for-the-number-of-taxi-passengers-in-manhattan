{
 "cells": [
  {
   "cell_type": "markdown",
   "id": "f37ce300-601d-4461-b01b-cad0acb2c2e4",
   "metadata": {},
   "source": [
    "## Import Library"
   ]
  },
  {
   "cell_type": "code",
   "execution_count": 1,
   "id": "5d173c3c-5508-49a8-a4fe-a5bcf96dcc82",
   "metadata": {},
   "outputs": [],
   "source": [
    "import pandas as pd\n",
    "\n",
    "from prophet import Prophet"
   ]
  },
  {
   "cell_type": "markdown",
   "id": "2ce342f7-70e5-4e08-a67e-cf8e3a9207a5",
   "metadata": {},
   "source": [
    "## Read Data"
   ]
  },
  {
   "cell_type": "code",
   "execution_count": 2,
   "id": "b0972d0f-9991-451a-be83-c7e0722a69d6",
   "metadata": {},
   "outputs": [],
   "source": [
    "df = pd.read_parquet('yellow_tripdata_2022-08.parquet', engine='pyarrow')"
   ]
  },
  {
   "cell_type": "code",
   "execution_count": 3,
   "id": "39a9e1c4-0979-4eaf-b98e-cea815861832",
   "metadata": {},
   "outputs": [
    {
     "name": "stdout",
     "output_type": "stream",
     "text": [
      "<class 'pandas.core.frame.DataFrame'>\n",
      "RangeIndex: 3152677 entries, 0 to 3152676\n",
      "Data columns (total 19 columns):\n",
      " #   Column                 Dtype         \n",
      "---  ------                 -----         \n",
      " 0   VendorID               int64         \n",
      " 1   tpep_pickup_datetime   datetime64[ns]\n",
      " 2   tpep_dropoff_datetime  datetime64[ns]\n",
      " 3   passenger_count        float64       \n",
      " 4   trip_distance          float64       \n",
      " 5   RatecodeID             float64       \n",
      " 6   store_and_fwd_flag     object        \n",
      " 7   PULocationID           int64         \n",
      " 8   DOLocationID           int64         \n",
      " 9   payment_type           int64         \n",
      " 10  fare_amount            float64       \n",
      " 11  extra                  float64       \n",
      " 12  mta_tax                float64       \n",
      " 13  tip_amount             float64       \n",
      " 14  tolls_amount           float64       \n",
      " 15  improvement_surcharge  float64       \n",
      " 16  total_amount           float64       \n",
      " 17  congestion_surcharge   float64       \n",
      " 18  airport_fee            float64       \n",
      "dtypes: datetime64[ns](2), float64(12), int64(4), object(1)\n",
      "memory usage: 457.0+ MB\n"
     ]
    }
   ],
   "source": [
    "df.info()"
   ]
  },
  {
   "cell_type": "code",
   "execution_count": 4,
   "id": "4e265e36-295f-4182-bac3-97ac6b863907",
   "metadata": {},
   "outputs": [
    {
     "data": {
      "text/plain": [
       "VendorID                     0\n",
       "tpep_pickup_datetime         0\n",
       "tpep_dropoff_datetime        0\n",
       "passenger_count          93174\n",
       "trip_distance                0\n",
       "RatecodeID               93174\n",
       "store_and_fwd_flag       93174\n",
       "PULocationID                 0\n",
       "DOLocationID                 0\n",
       "payment_type                 0\n",
       "fare_amount                  0\n",
       "extra                        0\n",
       "mta_tax                      0\n",
       "tip_amount                   0\n",
       "tolls_amount                 0\n",
       "improvement_surcharge        0\n",
       "total_amount                 0\n",
       "congestion_surcharge     93174\n",
       "airport_fee              93174\n",
       "dtype: int64"
      ]
     },
     "execution_count": 4,
     "metadata": {},
     "output_type": "execute_result"
    }
   ],
   "source": [
    "df.isna().sum()"
   ]
  },
  {
   "cell_type": "markdown",
   "id": "c05cdfb7-9655-4832-9fbc-da0ccba4b531",
   "metadata": {},
   "source": [
    "The data have a null value in 4 columns, but we dont need the data from that columns so we dont need to do anything from that columns."
   ]
  },
  {
   "cell_type": "code",
   "execution_count": 5,
   "id": "2dc50dfc-eaef-421f-85e1-46f39b083b32",
   "metadata": {},
   "outputs": [
    {
     "data": {
      "text/html": [
       "<div>\n",
       "<style scoped>\n",
       "    .dataframe tbody tr th:only-of-type {\n",
       "        vertical-align: middle;\n",
       "    }\n",
       "\n",
       "    .dataframe tbody tr th {\n",
       "        vertical-align: top;\n",
       "    }\n",
       "\n",
       "    .dataframe thead th {\n",
       "        text-align: right;\n",
       "    }\n",
       "</style>\n",
       "<table border=\"1\" class=\"dataframe\">\n",
       "  <thead>\n",
       "    <tr style=\"text-align: right;\">\n",
       "      <th></th>\n",
       "      <th>VendorID</th>\n",
       "      <th>tpep_pickup_datetime</th>\n",
       "      <th>tpep_dropoff_datetime</th>\n",
       "      <th>passenger_count</th>\n",
       "      <th>trip_distance</th>\n",
       "      <th>RatecodeID</th>\n",
       "      <th>store_and_fwd_flag</th>\n",
       "      <th>PULocationID</th>\n",
       "      <th>DOLocationID</th>\n",
       "      <th>payment_type</th>\n",
       "      <th>fare_amount</th>\n",
       "      <th>extra</th>\n",
       "      <th>mta_tax</th>\n",
       "      <th>tip_amount</th>\n",
       "      <th>tolls_amount</th>\n",
       "      <th>improvement_surcharge</th>\n",
       "      <th>total_amount</th>\n",
       "      <th>congestion_surcharge</th>\n",
       "      <th>airport_fee</th>\n",
       "    </tr>\n",
       "  </thead>\n",
       "  <tbody>\n",
       "    <tr>\n",
       "      <th>1761449</th>\n",
       "      <td>2</td>\n",
       "      <td>2022-08-18 19:25:19</td>\n",
       "      <td>2022-08-18 19:42:49</td>\n",
       "      <td>2.0</td>\n",
       "      <td>3.09</td>\n",
       "      <td>1.0</td>\n",
       "      <td>N</td>\n",
       "      <td>125</td>\n",
       "      <td>137</td>\n",
       "      <td>1</td>\n",
       "      <td>13.0</td>\n",
       "      <td>1.0</td>\n",
       "      <td>0.5</td>\n",
       "      <td>4.32</td>\n",
       "      <td>0.0</td>\n",
       "      <td>0.3</td>\n",
       "      <td>21.62</td>\n",
       "      <td>2.5</td>\n",
       "      <td>0.0</td>\n",
       "    </tr>\n",
       "    <tr>\n",
       "      <th>469469</th>\n",
       "      <td>1</td>\n",
       "      <td>2022-08-05 16:56:21</td>\n",
       "      <td>2022-08-05 17:06:52</td>\n",
       "      <td>2.0</td>\n",
       "      <td>4.80</td>\n",
       "      <td>1.0</td>\n",
       "      <td>N</td>\n",
       "      <td>209</td>\n",
       "      <td>170</td>\n",
       "      <td>2</td>\n",
       "      <td>15.5</td>\n",
       "      <td>3.5</td>\n",
       "      <td>0.5</td>\n",
       "      <td>0.00</td>\n",
       "      <td>0.0</td>\n",
       "      <td>0.3</td>\n",
       "      <td>19.80</td>\n",
       "      <td>2.5</td>\n",
       "      <td>0.0</td>\n",
       "    </tr>\n",
       "    <tr>\n",
       "      <th>1389177</th>\n",
       "      <td>2</td>\n",
       "      <td>2022-08-15 05:16:11</td>\n",
       "      <td>2022-08-15 05:19:46</td>\n",
       "      <td>1.0</td>\n",
       "      <td>0.99</td>\n",
       "      <td>1.0</td>\n",
       "      <td>N</td>\n",
       "      <td>107</td>\n",
       "      <td>113</td>\n",
       "      <td>1</td>\n",
       "      <td>5.0</td>\n",
       "      <td>0.5</td>\n",
       "      <td>0.5</td>\n",
       "      <td>0.00</td>\n",
       "      <td>0.0</td>\n",
       "      <td>0.3</td>\n",
       "      <td>8.80</td>\n",
       "      <td>2.5</td>\n",
       "      <td>0.0</td>\n",
       "    </tr>\n",
       "    <tr>\n",
       "      <th>151202</th>\n",
       "      <td>2</td>\n",
       "      <td>2022-08-02 17:52:05</td>\n",
       "      <td>2022-08-02 17:58:33</td>\n",
       "      <td>1.0</td>\n",
       "      <td>2.26</td>\n",
       "      <td>1.0</td>\n",
       "      <td>N</td>\n",
       "      <td>141</td>\n",
       "      <td>74</td>\n",
       "      <td>1</td>\n",
       "      <td>8.0</td>\n",
       "      <td>1.0</td>\n",
       "      <td>0.5</td>\n",
       "      <td>3.08</td>\n",
       "      <td>0.0</td>\n",
       "      <td>0.3</td>\n",
       "      <td>15.38</td>\n",
       "      <td>2.5</td>\n",
       "      <td>0.0</td>\n",
       "    </tr>\n",
       "    <tr>\n",
       "      <th>474173</th>\n",
       "      <td>2</td>\n",
       "      <td>2022-08-05 17:33:54</td>\n",
       "      <td>2022-08-05 17:41:32</td>\n",
       "      <td>3.0</td>\n",
       "      <td>0.90</td>\n",
       "      <td>1.0</td>\n",
       "      <td>N</td>\n",
       "      <td>234</td>\n",
       "      <td>170</td>\n",
       "      <td>1</td>\n",
       "      <td>6.5</td>\n",
       "      <td>1.0</td>\n",
       "      <td>0.5</td>\n",
       "      <td>2.16</td>\n",
       "      <td>0.0</td>\n",
       "      <td>0.3</td>\n",
       "      <td>12.96</td>\n",
       "      <td>2.5</td>\n",
       "      <td>0.0</td>\n",
       "    </tr>\n",
       "  </tbody>\n",
       "</table>\n",
       "</div>"
      ],
      "text/plain": [
       "         VendorID tpep_pickup_datetime tpep_dropoff_datetime  passenger_count  \\\n",
       "1761449         2  2022-08-18 19:25:19   2022-08-18 19:42:49              2.0   \n",
       "469469          1  2022-08-05 16:56:21   2022-08-05 17:06:52              2.0   \n",
       "1389177         2  2022-08-15 05:16:11   2022-08-15 05:19:46              1.0   \n",
       "151202          2  2022-08-02 17:52:05   2022-08-02 17:58:33              1.0   \n",
       "474173          2  2022-08-05 17:33:54   2022-08-05 17:41:32              3.0   \n",
       "\n",
       "         trip_distance  RatecodeID store_and_fwd_flag  PULocationID  \\\n",
       "1761449           3.09         1.0                  N           125   \n",
       "469469            4.80         1.0                  N           209   \n",
       "1389177           0.99         1.0                  N           107   \n",
       "151202            2.26         1.0                  N           141   \n",
       "474173            0.90         1.0                  N           234   \n",
       "\n",
       "         DOLocationID  payment_type  fare_amount  extra  mta_tax  tip_amount  \\\n",
       "1761449           137             1         13.0    1.0      0.5        4.32   \n",
       "469469            170             2         15.5    3.5      0.5        0.00   \n",
       "1389177           113             1          5.0    0.5      0.5        0.00   \n",
       "151202             74             1          8.0    1.0      0.5        3.08   \n",
       "474173            170             1          6.5    1.0      0.5        2.16   \n",
       "\n",
       "         tolls_amount  improvement_surcharge  total_amount  \\\n",
       "1761449           0.0                    0.3         21.62   \n",
       "469469            0.0                    0.3         19.80   \n",
       "1389177           0.0                    0.3          8.80   \n",
       "151202            0.0                    0.3         15.38   \n",
       "474173            0.0                    0.3         12.96   \n",
       "\n",
       "         congestion_surcharge  airport_fee  \n",
       "1761449                   2.5          0.0  \n",
       "469469                    2.5          0.0  \n",
       "1389177                   2.5          0.0  \n",
       "151202                    2.5          0.0  \n",
       "474173                    2.5          0.0  "
      ]
     },
     "execution_count": 5,
     "metadata": {},
     "output_type": "execute_result"
    }
   ],
   "source": [
    "df.sample(5)"
   ]
  },
  {
   "cell_type": "markdown",
   "id": "ea0641ae-50ac-4643-98bf-ab7aa058ddfd",
   "metadata": {},
   "source": [
    "## Pre-Processing Data"
   ]
  },
  {
   "cell_type": "code",
   "execution_count": 6,
   "id": "0232de98-9c71-4a6c-ac81-8d1123ae31c3",
   "metadata": {},
   "outputs": [],
   "source": [
    "important_column = ['tpep_pickup_datetime', 'PULocationID', 'VendorID']\n",
    "\n",
    "df = df[important_column]\n",
    "df['tpep_pickup_datetime'] = df['tpep_pickup_datetime'].round('H')"
   ]
  },
  {
   "cell_type": "code",
   "execution_count": 7,
   "id": "7f06dbae-0b04-4126-be23-4b81832c707f",
   "metadata": {},
   "outputs": [
    {
     "data": {
      "text/plain": [
       "tpep_pickup_datetime    0\n",
       "PULocationID            0\n",
       "VendorID                0\n",
       "dtype: int64"
      ]
     },
     "execution_count": 7,
     "metadata": {},
     "output_type": "execute_result"
    }
   ],
   "source": [
    "df.isna().sum()"
   ]
  },
  {
   "cell_type": "code",
   "execution_count": 8,
   "id": "c64dc483-c449-4d06-bd30-bc3d37695727",
   "metadata": {},
   "outputs": [
    {
     "data": {
      "text/html": [
       "<div>\n",
       "<style scoped>\n",
       "    .dataframe tbody tr th:only-of-type {\n",
       "        vertical-align: middle;\n",
       "    }\n",
       "\n",
       "    .dataframe tbody tr th {\n",
       "        vertical-align: top;\n",
       "    }\n",
       "\n",
       "    .dataframe thead th {\n",
       "        text-align: right;\n",
       "    }\n",
       "</style>\n",
       "<table border=\"1\" class=\"dataframe\">\n",
       "  <thead>\n",
       "    <tr style=\"text-align: right;\">\n",
       "      <th></th>\n",
       "      <th>tpep_pickup_datetime</th>\n",
       "      <th>PULocationID</th>\n",
       "      <th>VendorID</th>\n",
       "    </tr>\n",
       "  </thead>\n",
       "  <tbody>\n",
       "    <tr>\n",
       "      <th>43385</th>\n",
       "      <td>2022-08-19 06:00:00</td>\n",
       "      <td>79</td>\n",
       "      <td>21</td>\n",
       "    </tr>\n",
       "    <tr>\n",
       "      <th>68527</th>\n",
       "      <td>2022-08-29 13:00:00</td>\n",
       "      <td>193</td>\n",
       "      <td>8</td>\n",
       "    </tr>\n",
       "    <tr>\n",
       "      <th>7784</th>\n",
       "      <td>2022-08-04 07:00:00</td>\n",
       "      <td>244</td>\n",
       "      <td>4</td>\n",
       "    </tr>\n",
       "    <tr>\n",
       "      <th>31365</th>\n",
       "      <td>2022-08-14 04:00:00</td>\n",
       "      <td>125</td>\n",
       "      <td>17</td>\n",
       "    </tr>\n",
       "    <tr>\n",
       "      <th>70710</th>\n",
       "      <td>2022-08-30 12:00:00</td>\n",
       "      <td>74</td>\n",
       "      <td>17</td>\n",
       "    </tr>\n",
       "  </tbody>\n",
       "</table>\n",
       "</div>"
      ],
      "text/plain": [
       "      tpep_pickup_datetime  PULocationID  VendorID\n",
       "43385  2022-08-19 06:00:00            79        21\n",
       "68527  2022-08-29 13:00:00           193         8\n",
       "7784   2022-08-04 07:00:00           244         4\n",
       "31365  2022-08-14 04:00:00           125        17\n",
       "70710  2022-08-30 12:00:00            74        17"
      ]
     },
     "execution_count": 8,
     "metadata": {},
     "output_type": "execute_result"
    }
   ],
   "source": [
    "df_grp = df.groupby(['tpep_pickup_datetime', 'PULocationID'])['VendorID'].count().reset_index().sort_values(by=['tpep_pickup_datetime'])\n",
    "df_grp.sample(5)"
   ]
  },
  {
   "cell_type": "code",
   "execution_count": 9,
   "id": "7c43f1de-b7ff-4f42-bc4f-5fd63dc57bd4",
   "metadata": {},
   "outputs": [
    {
     "data": {
      "text/html": [
       "<div>\n",
       "<style scoped>\n",
       "    .dataframe tbody tr th:only-of-type {\n",
       "        vertical-align: middle;\n",
       "    }\n",
       "\n",
       "    .dataframe tbody tr th {\n",
       "        vertical-align: top;\n",
       "    }\n",
       "\n",
       "    .dataframe thead th {\n",
       "        text-align: right;\n",
       "    }\n",
       "</style>\n",
       "<table border=\"1\" class=\"dataframe\">\n",
       "  <thead>\n",
       "    <tr style=\"text-align: right;\">\n",
       "      <th></th>\n",
       "      <th>Pickup_Datetime</th>\n",
       "      <th>Location</th>\n",
       "      <th>Total_Order</th>\n",
       "    </tr>\n",
       "  </thead>\n",
       "  <tbody>\n",
       "    <tr>\n",
       "      <th>37876</th>\n",
       "      <td>2022-08-16 21:00:00</td>\n",
       "      <td>239</td>\n",
       "      <td>145</td>\n",
       "    </tr>\n",
       "    <tr>\n",
       "      <th>73106</th>\n",
       "      <td>2022-08-31 11:00:00</td>\n",
       "      <td>239</td>\n",
       "      <td>164</td>\n",
       "    </tr>\n",
       "    <tr>\n",
       "      <th>71540</th>\n",
       "      <td>2022-08-30 19:00:00</td>\n",
       "      <td>228</td>\n",
       "      <td>1</td>\n",
       "    </tr>\n",
       "    <tr>\n",
       "      <th>41371</th>\n",
       "      <td>2022-08-18 10:00:00</td>\n",
       "      <td>87</td>\n",
       "      <td>39</td>\n",
       "    </tr>\n",
       "    <tr>\n",
       "      <th>9723</th>\n",
       "      <td>2022-08-05 01:00:00</td>\n",
       "      <td>237</td>\n",
       "      <td>34</td>\n",
       "    </tr>\n",
       "  </tbody>\n",
       "</table>\n",
       "</div>"
      ],
      "text/plain": [
       "          Pickup_Datetime  Location  Total_Order\n",
       "37876 2022-08-16 21:00:00       239          145\n",
       "73106 2022-08-31 11:00:00       239          164\n",
       "71540 2022-08-30 19:00:00       228            1\n",
       "41371 2022-08-18 10:00:00        87           39\n",
       "9723  2022-08-05 01:00:00       237           34"
      ]
     },
     "execution_count": 9,
     "metadata": {},
     "output_type": "execute_result"
    }
   ],
   "source": [
    "final = df_grp[~(df_grp['tpep_pickup_datetime'] < '2022-08-01 00:00:00') & ~(df_grp['tpep_pickup_datetime'] > '2022-08-31 23:59:59')]\n",
    "\n",
    "final.columns = ['Pickup_Datetime', 'Location', 'Total_Order']\n",
    "\n",
    "final.sample(5)"
   ]
  },
  {
   "cell_type": "markdown",
   "id": "52fbb568-1829-4afd-b320-9b75aa9f6066",
   "metadata": {},
   "source": [
    "## Make A Time series model"
   ]
  },
  {
   "cell_type": "code",
   "execution_count": 10,
   "id": "06d5388e-042d-4f41-a283-6d3ac7821607",
   "metadata": {},
   "outputs": [],
   "source": [
    "def model(data, Location_id=1):\n",
    "    data = data[['Pickup_Datetime', 'Total_Order']][data['Location'] == Location_id]\n",
    "    data.columns = ['ds', 'y']\n",
    "    m = Prophet(\n",
    "            weekly_seasonality = True, \n",
    "            yearly_seasonality = True, \n",
    "            daily_seasonality = True\n",
    "    )\n",
    "    m.fit(data)\n",
    "    return m"
   ]
  },
  {
   "cell_type": "markdown",
   "id": "c848ff4b-b089-4977-ad22-1d2fe554b2e7",
   "metadata": {},
   "source": [
    "In this case, I want to analysis total pickup in locationId 4"
   ]
  },
  {
   "cell_type": "code",
   "execution_count": 11,
   "id": "57e12c0f-9778-4d04-a266-79437841666c",
   "metadata": {},
   "outputs": [
    {
     "name": "stderr",
     "output_type": "stream",
     "text": [
      "11:54:47 - cmdstanpy - INFO - Chain [1] start processing\n",
      "11:54:47 - cmdstanpy - INFO - Chain [1] done processing\n"
     ]
    }
   ],
   "source": [
    "m = model(final, 4)"
   ]
  },
  {
   "cell_type": "markdown",
   "id": "ed834775-94a1-4fcf-8be8-42e47bc52dcf",
   "metadata": {},
   "source": [
    "## Make a prediction"
   ]
  },
  {
   "cell_type": "code",
   "execution_count": 12,
   "id": "250dc9da-6529-40d4-8352-470281c423eb",
   "metadata": {},
   "outputs": [],
   "source": [
    "future2 = m.make_future_dataframe(periods=(24*30), freq = 'H', include_history = False)"
   ]
  },
  {
   "cell_type": "code",
   "execution_count": 13,
   "id": "f0924948-c697-459d-a1d3-c534cb7afd01",
   "metadata": {},
   "outputs": [
    {
     "data": {
      "text/html": [
       "<div>\n",
       "<style scoped>\n",
       "    .dataframe tbody tr th:only-of-type {\n",
       "        vertical-align: middle;\n",
       "    }\n",
       "\n",
       "    .dataframe tbody tr th {\n",
       "        vertical-align: top;\n",
       "    }\n",
       "\n",
       "    .dataframe thead th {\n",
       "        text-align: right;\n",
       "    }\n",
       "</style>\n",
       "<table border=\"1\" class=\"dataframe\">\n",
       "  <thead>\n",
       "    <tr style=\"text-align: right;\">\n",
       "      <th></th>\n",
       "      <th>ds</th>\n",
       "      <th>trend</th>\n",
       "      <th>yhat_lower</th>\n",
       "      <th>yhat_upper</th>\n",
       "      <th>trend_lower</th>\n",
       "      <th>trend_upper</th>\n",
       "      <th>additive_terms</th>\n",
       "      <th>additive_terms_lower</th>\n",
       "      <th>additive_terms_upper</th>\n",
       "      <th>daily</th>\n",
       "      <th>...</th>\n",
       "      <th>weekly</th>\n",
       "      <th>weekly_lower</th>\n",
       "      <th>weekly_upper</th>\n",
       "      <th>yearly</th>\n",
       "      <th>yearly_lower</th>\n",
       "      <th>yearly_upper</th>\n",
       "      <th>multiplicative_terms</th>\n",
       "      <th>multiplicative_terms_lower</th>\n",
       "      <th>multiplicative_terms_upper</th>\n",
       "      <th>yhat</th>\n",
       "    </tr>\n",
       "  </thead>\n",
       "  <tbody>\n",
       "    <tr>\n",
       "      <th>621</th>\n",
       "      <td>2022-09-26 21:00:00</td>\n",
       "      <td>13.603546</td>\n",
       "      <td>4.117678</td>\n",
       "      <td>17.213375</td>\n",
       "      <td>13.600609</td>\n",
       "      <td>13.606617</td>\n",
       "      <td>-3.071353</td>\n",
       "      <td>-3.071353</td>\n",
       "      <td>-3.071353</td>\n",
       "      <td>-1.119465</td>\n",
       "      <td>...</td>\n",
       "      <td>-2.377735</td>\n",
       "      <td>-2.377735</td>\n",
       "      <td>-2.377735</td>\n",
       "      <td>0.425847</td>\n",
       "      <td>0.425847</td>\n",
       "      <td>0.425847</td>\n",
       "      <td>0.0</td>\n",
       "      <td>0.0</td>\n",
       "      <td>0.0</td>\n",
       "      <td>10.532193</td>\n",
       "    </tr>\n",
       "    <tr>\n",
       "      <th>338</th>\n",
       "      <td>2022-09-15 02:00:00</td>\n",
       "      <td>11.049542</td>\n",
       "      <td>8.885050</td>\n",
       "      <td>22.255175</td>\n",
       "      <td>11.048383</td>\n",
       "      <td>11.050807</td>\n",
       "      <td>4.513999</td>\n",
       "      <td>4.513999</td>\n",
       "      <td>4.513999</td>\n",
       "      <td>8.240438</td>\n",
       "      <td>...</td>\n",
       "      <td>-1.624405</td>\n",
       "      <td>-1.624405</td>\n",
       "      <td>-1.624405</td>\n",
       "      <td>-2.102035</td>\n",
       "      <td>-2.102035</td>\n",
       "      <td>-2.102035</td>\n",
       "      <td>0.0</td>\n",
       "      <td>0.0</td>\n",
       "      <td>0.0</td>\n",
       "      <td>15.563541</td>\n",
       "    </tr>\n",
       "    <tr>\n",
       "      <th>248</th>\n",
       "      <td>2022-09-11 08:00:00</td>\n",
       "      <td>10.237315</td>\n",
       "      <td>2.154296</td>\n",
       "      <td>14.319260</td>\n",
       "      <td>10.236588</td>\n",
       "      <td>10.238088</td>\n",
       "      <td>-1.957124</td>\n",
       "      <td>-1.957124</td>\n",
       "      <td>-1.957124</td>\n",
       "      <td>-1.286073</td>\n",
       "      <td>...</td>\n",
       "      <td>2.060836</td>\n",
       "      <td>2.060836</td>\n",
       "      <td>2.060836</td>\n",
       "      <td>-2.731886</td>\n",
       "      <td>-2.731886</td>\n",
       "      <td>-2.731886</td>\n",
       "      <td>0.0</td>\n",
       "      <td>0.0</td>\n",
       "      <td>0.0</td>\n",
       "      <td>8.280191</td>\n",
       "    </tr>\n",
       "    <tr>\n",
       "      <th>695</th>\n",
       "      <td>2022-09-29 23:00:00</td>\n",
       "      <td>14.271377</td>\n",
       "      <td>9.453117</td>\n",
       "      <td>22.560361</td>\n",
       "      <td>14.267933</td>\n",
       "      <td>14.275189</td>\n",
       "      <td>1.471313</td>\n",
       "      <td>1.471313</td>\n",
       "      <td>1.471313</td>\n",
       "      <td>1.699691</td>\n",
       "      <td>...</td>\n",
       "      <td>-0.984166</td>\n",
       "      <td>-0.984166</td>\n",
       "      <td>-0.984166</td>\n",
       "      <td>0.755788</td>\n",
       "      <td>0.755788</td>\n",
       "      <td>0.755788</td>\n",
       "      <td>0.0</td>\n",
       "      <td>0.0</td>\n",
       "      <td>0.0</td>\n",
       "      <td>15.742690</td>\n",
       "    </tr>\n",
       "    <tr>\n",
       "      <th>711</th>\n",
       "      <td>2022-09-30 15:00:00</td>\n",
       "      <td>14.415773</td>\n",
       "      <td>9.265193</td>\n",
       "      <td>22.156128</td>\n",
       "      <td>14.412197</td>\n",
       "      <td>14.419655</td>\n",
       "      <td>1.348038</td>\n",
       "      <td>1.348038</td>\n",
       "      <td>1.348038</td>\n",
       "      <td>-1.395194</td>\n",
       "      <td>...</td>\n",
       "      <td>1.948818</td>\n",
       "      <td>1.948818</td>\n",
       "      <td>1.948818</td>\n",
       "      <td>0.794414</td>\n",
       "      <td>0.794414</td>\n",
       "      <td>0.794414</td>\n",
       "      <td>0.0</td>\n",
       "      <td>0.0</td>\n",
       "      <td>0.0</td>\n",
       "      <td>15.763810</td>\n",
       "    </tr>\n",
       "  </tbody>\n",
       "</table>\n",
       "<p>5 rows × 22 columns</p>\n",
       "</div>"
      ],
      "text/plain": [
       "                     ds      trend  yhat_lower  yhat_upper  trend_lower  \\\n",
       "621 2022-09-26 21:00:00  13.603546    4.117678   17.213375    13.600609   \n",
       "338 2022-09-15 02:00:00  11.049542    8.885050   22.255175    11.048383   \n",
       "248 2022-09-11 08:00:00  10.237315    2.154296   14.319260    10.236588   \n",
       "695 2022-09-29 23:00:00  14.271377    9.453117   22.560361    14.267933   \n",
       "711 2022-09-30 15:00:00  14.415773    9.265193   22.156128    14.412197   \n",
       "\n",
       "     trend_upper  additive_terms  additive_terms_lower  additive_terms_upper  \\\n",
       "621    13.606617       -3.071353             -3.071353             -3.071353   \n",
       "338    11.050807        4.513999              4.513999              4.513999   \n",
       "248    10.238088       -1.957124             -1.957124             -1.957124   \n",
       "695    14.275189        1.471313              1.471313              1.471313   \n",
       "711    14.419655        1.348038              1.348038              1.348038   \n",
       "\n",
       "        daily  ...    weekly  weekly_lower  weekly_upper    yearly  \\\n",
       "621 -1.119465  ... -2.377735     -2.377735     -2.377735  0.425847   \n",
       "338  8.240438  ... -1.624405     -1.624405     -1.624405 -2.102035   \n",
       "248 -1.286073  ...  2.060836      2.060836      2.060836 -2.731886   \n",
       "695  1.699691  ... -0.984166     -0.984166     -0.984166  0.755788   \n",
       "711 -1.395194  ...  1.948818      1.948818      1.948818  0.794414   \n",
       "\n",
       "     yearly_lower  yearly_upper  multiplicative_terms  \\\n",
       "621      0.425847      0.425847                   0.0   \n",
       "338     -2.102035     -2.102035                   0.0   \n",
       "248     -2.731886     -2.731886                   0.0   \n",
       "695      0.755788      0.755788                   0.0   \n",
       "711      0.794414      0.794414                   0.0   \n",
       "\n",
       "     multiplicative_terms_lower  multiplicative_terms_upper       yhat  \n",
       "621                         0.0                         0.0  10.532193  \n",
       "338                         0.0                         0.0  15.563541  \n",
       "248                         0.0                         0.0   8.280191  \n",
       "695                         0.0                         0.0  15.742690  \n",
       "711                         0.0                         0.0  15.763810  \n",
       "\n",
       "[5 rows x 22 columns]"
      ]
     },
     "execution_count": 13,
     "metadata": {},
     "output_type": "execute_result"
    }
   ],
   "source": [
    "forecast2 = m.predict(future2)\n",
    "forecast2.sample(5)"
   ]
  },
  {
   "cell_type": "markdown",
   "id": "df2b4585-1ed4-4e86-be61-b4922d042d99",
   "metadata": {},
   "source": [
    "## Show graph of the prediction"
   ]
  },
  {
   "cell_type": "code",
   "execution_count": 14,
   "id": "d1edb991-fca4-4cdf-91eb-e00edbb75536",
   "metadata": {},
   "outputs": [
    {
     "data": {
      "text/plain": [
       "<AxesSubplot:xlabel='ds', ylabel='yhat'>"
      ]
     },
     "execution_count": 14,
     "metadata": {},
     "output_type": "execute_result"
    },
    {
     "data": {
      "image/png": "[encoded data removed]",
      "text/plain": [
       "<Figure size 864x576 with 1 Axes>"
      ]
     },
     "metadata": {
      "needs_background": "light"
     },
     "output_type": "display_data"
    }
   ],
   "source": [
    "import matplotlib.pyplot as plt\n",
    "import seaborn as sns\n",
    "\n",
    "plt.figure(figsize=(12,8))\n",
    "sns.lineplot(x='ds', y='yhat', data=forecast2)"
   ]
  },
  {
   "cell_type": "markdown",
   "id": "1f033e62-18ef-4624-93ad-78270d7a40d8",
   "metadata": {},
   "source": [
    "## Analyst of future prediction"
   ]
  },
  {
   "cell_type": "code",
   "execution_count": 15,
   "id": "46f2f015-d8d0-468d-a365-13df0380e074",
   "metadata": {},
   "outputs": [],
   "source": [
    "name_of_day = []\n",
    "hours       = []\n",
    "\n",
    "for i in range(len(forecast2['ds'])):\n",
    "    day  = forecast2['ds'][i].strftime(\"%A\")\n",
    "    hour = forecast2['ds'][i].strftime(\"%H\")\n",
    "    name_of_day.append(day)\n",
    "    hours.append(hour)\n",
    "\n",
    "forecast2['Name_of_Day'] = name_of_day\n",
    "forecast2['Hours'] = hours"
   ]
  },
  {
   "cell_type": "markdown",
   "id": "c4ae165c-2c7f-4f28-9e81-5b7ce9ba90b2",
   "metadata": {},
   "source": [
    "Let's Calculate the average passenger by day"
   ]
  },
  {
   "cell_type": "code",
   "execution_count": 16,
   "id": "7f654513-c478-49a7-8719-8e77d2e41143",
   "metadata": {},
   "outputs": [
    {
     "data": {
      "text/html": [
       "<div>\n",
       "<style scoped>\n",
       "    .dataframe tbody tr th:only-of-type {\n",
       "        vertical-align: middle;\n",
       "    }\n",
       "\n",
       "    .dataframe tbody tr th {\n",
       "        vertical-align: top;\n",
       "    }\n",
       "\n",
       "    .dataframe thead th {\n",
       "        text-align: right;\n",
       "    }\n",
       "</style>\n",
       "<table border=\"1\" class=\"dataframe\">\n",
       "  <thead>\n",
       "    <tr style=\"text-align: right;\">\n",
       "      <th></th>\n",
       "      <th>Name_of_Day</th>\n",
       "      <th>yhat</th>\n",
       "    </tr>\n",
       "  </thead>\n",
       "  <tbody>\n",
       "    <tr>\n",
       "      <th>2</th>\n",
       "      <td>Saturday</td>\n",
       "      <td>14.137629</td>\n",
       "    </tr>\n",
       "    <tr>\n",
       "      <th>0</th>\n",
       "      <td>Friday</td>\n",
       "      <td>11.227861</td>\n",
       "    </tr>\n",
       "    <tr>\n",
       "      <th>3</th>\n",
       "      <td>Sunday</td>\n",
       "      <td>10.420380</td>\n",
       "    </tr>\n",
       "    <tr>\n",
       "      <th>6</th>\n",
       "      <td>Wednesday</td>\n",
       "      <td>8.661582</td>\n",
       "    </tr>\n",
       "    <tr>\n",
       "      <th>4</th>\n",
       "      <td>Thursday</td>\n",
       "      <td>8.175494</td>\n",
       "    </tr>\n",
       "    <tr>\n",
       "      <th>5</th>\n",
       "      <td>Tuesday</td>\n",
       "      <td>8.149167</td>\n",
       "    </tr>\n",
       "    <tr>\n",
       "      <th>1</th>\n",
       "      <td>Monday</td>\n",
       "      <td>7.168655</td>\n",
       "    </tr>\n",
       "  </tbody>\n",
       "</table>\n",
       "</div>"
      ],
      "text/plain": [
       "  Name_of_Day       yhat\n",
       "2    Saturday  14.137629\n",
       "0      Friday  11.227861\n",
       "3      Sunday  10.420380\n",
       "6   Wednesday   8.661582\n",
       "4    Thursday   8.175494\n",
       "5     Tuesday   8.149167\n",
       "1      Monday   7.168655"
      ]
     },
     "execution_count": 16,
     "metadata": {},
     "output_type": "execute_result"
    }
   ],
   "source": [
    "customer_day = forecast2.groupby('Name_of_Day').agg({'yhat' : 'mean'}).reset_index().sort_values(by='yhat', ascending=False)\n",
    "customer_day"
   ]
  },
  {
   "cell_type": "code",
   "execution_count": 17,
   "id": "8df44585-f79f-4e4a-9c1d-3b7224bfa128",
   "metadata": {},
   "outputs": [
    {
     "data": {
      "image/png": "[encoded data removed]",
      "text/plain": [
       "<Figure size 864x576 with 1 Axes>"
      ]
     },
     "metadata": {
      "needs_background": "light"
     },
     "output_type": "display_data"
    }
   ],
   "source": [
    "# make it to graph\n",
    "plt.figure(figsize=(12,8))\n",
    "ax = sns.barplot(y='yhat', x='Name_of_Day', data=customer_day)\n",
    "\n",
    "for bar in ax.patches:\n",
    "    bar.set_facecolor('#888888')\n",
    "\n",
    "ax.patches[0].set_facecolor('#aa3333')\n",
    "ax.patches[1].set_facecolor('#aa3333')"
   ]
  },
  {
   "cell_type": "markdown",
   "id": "ddd5c122-1ef7-407b-b295-e430c95ecabd",
   "metadata": {},
   "source": [
    "Now let's see what time has the highest average number of passengers"
   ]
  },
  {
   "cell_type": "code",
   "execution_count": 18,
   "id": "f0e88ca1-c339-4797-ac02-c90793f7e18e",
   "metadata": {},
   "outputs": [
    {
     "data": {
      "text/plain": [
       "Text(0, 0.5, 'Total Customer')"
      ]
     },
     "execution_count": 18,
     "metadata": {},
     "output_type": "execute_result"
    },
    {
     "data": {
      "image/png": "[encoded data removed]",
      "text/plain": [
       "<Figure size 864x576 with 1 Axes>"
      ]
     },
     "metadata": {
      "needs_background": "light"
     },
     "output_type": "display_data"
    }
   ],
   "source": [
    "customer_hour = forecast2.groupby('Hours').agg({'yhat' : 'mean'}).reset_index().sort_values(by='yhat', ascending=False)\n",
    "\n",
    "plt.figure(figsize=(12,8))\n",
    "ax = sns.lineplot(y='yhat', x='Hours', data=customer_hour)\n",
    "plt.ylabel('Total Customer')"
   ]
  },
  {
   "cell_type": "markdown",
   "id": "3c96a75b-a615-44bf-9942-9292a3551742",
   "metadata": {},
   "source": [
    "From the two graphs above, we can conclude that locations with ID 4 have the highest number of passengers on Saturday and Friday. and the busiest hours are between 23:00 and 03:00 so it is recommended that at that time the operations team of the NYC taxi commission sends sufficient taxi fleets (around 15-20 taxis). besides these hours, it is enough to prepare 10 taxi fleets"
   ]
  },
  {
   "cell_type": "markdown",
   "id": "643156b7-8450-44e0-b877-aec3fac6d579",
   "metadata": {},
   "source": [
    "## Want To see an average customer per hours in each day? See this code"
   ]
  },
  {
   "cell_type": "code",
   "execution_count": 19,
   "id": "35e90306-b0f9-40bc-a313-2d9b88ef2cae",
   "metadata": {},
   "outputs": [
    {
     "data": {
      "image/png": "[encoded data removed]",
      "text/plain": [
       "<Figure size 1152x864 with 7 Axes>"
      ]
     },
     "metadata": {
      "needs_background": "light"
     },
     "output_type": "display_data"
    }
   ],
   "source": [
    "x = 1\n",
    "day = list(forecast2['Name_of_Day'].unique())\n",
    "plot = 3\n",
    "\n",
    "plt.figure(figsize=(16,12))\n",
    "for i in day:\n",
    "    a = forecast2[forecast2['Name_of_Day'] == i].groupby('Hours').agg({'yhat' : 'mean'}).reset_index().sort_values(by='Hours', ascending=True)\n",
    "    plt.subplot(4,3,x)\n",
    "    sns.barplot(y='yhat', x='Hours', data= a)\n",
    "    plt.title(i)\n",
    "    plt.tight_layout()\n",
    "    x += 1\n",
    "plt.show()"
   ]
  }
 ],
 "metadata": {
  "kernelspec": {
   "display_name": "Python 3 (ipykernel)",
   "language": "python",
   "name": "python3"
  },
  "language_info": {
   "codemirror_mode": {
    "name": "ipython",
    "version": 3
   },
   "file_extension": ".py",
   "mimetype": "text/x-python",
   "name": "python",
   "nbconvert_exporter": "python",
   "pygments_lexer": "ipython3",
   "version": "3.9.7"
  }
 },
 "nbformat": 4,
 "nbformat_minor": 5
}
